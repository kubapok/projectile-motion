{
 "cells": [
  {
   "cell_type": "code",
   "execution_count": 30,
   "metadata": {
    "collapsed": true
   },
   "outputs": [],
   "source": [
    "import math\n",
    "import numpy as np\n",
    "v = 30\n",
    "angle = math.radians(30)"
   ]
  },
  {
   "cell_type": "code",
   "execution_count": 31,
   "metadata": {
    "collapsed": true
   },
   "outputs": [],
   "source": [
    "vy = v*math.sin(angle)\n",
    "vx = v*math.cos(angle)"
   ]
  },
  {
   "cell_type": "code",
   "execution_count": 33,
   "metadata": {
    "collapsed": false
   },
   "outputs": [
    {
     "data": {
      "text/plain": [
       "14.999999999999998"
      ]
     },
     "execution_count": 33,
     "metadata": {},
     "output_type": "execute_result"
    }
   ],
   "source": [
    "vy"
   ]
  },
  {
   "cell_type": "code",
   "execution_count": 34,
   "metadata": {
    "collapsed": false
   },
   "outputs": [],
   "source": [
    "r = 0.2\n",
    "kappa = 0.45 *np.pi * r*r * 0.6\n",
    "m = 0.3\n",
    "g = 9.81\n",
    "t = 0.05\n",
    "angle = 46\n",
    "v = 30"
   ]
  },
  {
   "cell_type": "code",
   "execution_count": 36,
   "metadata": {
    "collapsed": true
   },
   "outputs": [],
   "source": [
    "x = [0,]\n",
    "y = [0,]\n",
    "vx = [v*math.cos(angle),]\n",
    "vy = [v*math.sin(angle),]"
   ]
  },
  {
   "cell_type": "code",
   "execution_count": 37,
   "metadata": {
    "collapsed": false
   },
   "outputs": [
    {
     "data": {
      "text/plain": [
       "[-12.965338346543348]"
      ]
     },
     "execution_count": 37,
     "metadata": {},
     "output_type": "execute_result"
    }
   ],
   "source": [
    "vx"
   ]
  },
  {
   "cell_type": "code",
   "execution_count": 24,
   "metadata": {
    "collapsed": true
   },
   "outputs": [],
   "source": [
    "while not y[-1] < 0:\n",
    "\tvx.append(vx[-1] -  t*(kappa/m)*np.sqrt( vx[-1]**2 + vy[-1]**2)*vx[-1]   )\n",
    "\tvy.append(vy[-1] -  t*( (kappa/m)*np.sqrt( vx[-1]**2 + vy[-1]**2)*vy[-1] + g)  )\n",
    "\tx.append(x[-1] +  vx[-2])\n",
    "\ty.append(y[-1] +  vy[-2])\n",
    "    "
   ]
  },
  {
   "cell_type": "code",
   "execution_count": 26,
   "metadata": {
    "collapsed": false
   },
   "outputs": [
    {
     "data": {
      "text/plain": [
       "[-12.965338346543348,\n",
       " -10.76582051469979,\n",
       " -9.2687634795119713,\n",
       " -8.1785435288343962,\n",
       " -7.3479525733055047,\n",
       " -6.6943747407224352,\n",
       " -6.1674711768717874,\n",
       " -5.7346539851850746,\n",
       " -5.3738152867236915,\n",
       " -5.0693829836035418,\n",
       " -4.8100420400722292,\n",
       " -4.5873488312352766,\n",
       " -4.3948514114248587,\n",
       " -4.2275094325167917,\n",
       " -4.0812980475723464,\n",
       " -3.9529280945238905,\n",
       " -3.8396415942389108,\n",
       " -3.7390574649909021,\n",
       " -3.6490527414133633,\n",
       " -3.5676724501999328,\n",
       " -3.4930679316314053,\n",
       " -3.4234681405426381,\n",
       " -3.3571884356673687,\n",
       " -3.2926736502140601,\n",
       " -3.2285592928203504,\n",
       " -3.1637265229450997,\n",
       " -3.0973314737875031,\n",
       " -3.0288037433235759,\n",
       " -2.9578211099344651,\n",
       " -2.8842716512465714,\n",
       " -2.8082124553246635,\n",
       " -2.7298303516487641,\n",
       " -2.649407070816316,\n",
       " -2.567289490724832,\n",
       " -2.4838648170473845,\n",
       " -2.3995402533822947,\n",
       " -2.3147266550133314,\n",
       " -2.2298256805779948,\n",
       " -2.1452199943049406,\n",
       " -2.0612661067940241,\n",
       " -1.9782894714461232,\n",
       " -1.8965814792209408,\n",
       " -1.8163980196140521,\n",
       " -1.7379593026671554,\n",
       " -1.6614506661592507,\n",
       " -1.587024123526142,\n",
       " -1.514800440567214,\n",
       " -1.4448715614398204,\n",
       " -1.3773032356724908,\n",
       " -1.3121377270091483,\n",
       " -1.2493965111592635,\n",
       " -1.1890828925836587,\n",
       " -1.1311844901511385,\n",
       " -1.0756755579149089,\n",
       " -1.0225191205820974]"
      ]
     },
     "execution_count": 26,
     "metadata": {},
     "output_type": "execute_result"
    }
   ],
   "source": [
    "vx"
   ]
  }
 ],
 "metadata": {
  "kernelspec": {
   "display_name": "Python 3",
   "language": "python",
   "name": "python3"
  },
  "language_info": {
   "codemirror_mode": {
    "name": "ipython",
    "version": 3
   },
   "file_extension": ".py",
   "mimetype": "text/x-python",
   "name": "python",
   "nbconvert_exporter": "python",
   "pygments_lexer": "ipython3",
   "version": "3.4.0"
  }
 },
 "nbformat": 4,
 "nbformat_minor": 0
}
